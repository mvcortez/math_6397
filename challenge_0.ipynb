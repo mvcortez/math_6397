{
 "cells": [
  {
   "cell_type": "code",
   "execution_count": 1,
   "metadata": {},
   "outputs": [],
   "source": [
    "import numpy as np"
   ]
  },
  {
   "cell_type": "code",
   "execution_count": 2,
   "metadata": {},
   "outputs": [],
   "source": [
    "def generate_group(N,m):\n",
    "    '''parameters:\n",
    "    N - number of individuals to be distributed\n",
    "    m - number of groups to be formed\n",
    "    '''\n",
    "    x=np.random.permutation(N)+1\n",
    "    num_member=int(np.ceil(N/m))\n",
    "    for i in range(m):\n",
    "        print('Group %d' %(i+1))\n",
    "        if i<=i*m:\n",
    "            print(x[i*num_member:(i+1)*num_member])   \n",
    "        else:\n",
    "            print(x[i*num_member:N+1])      "
   ]
  },
  {
   "cell_type": "code",
   "execution_count": 3,
   "metadata": {},
   "outputs": [
    {
     "name": "stdout",
     "output_type": "stream",
     "text": [
      "Group 1\n",
      "[ 2  1 15  5  6]\n",
      "Group 2\n",
      "[17 18 14  9  3]\n",
      "Group 3\n",
      "[ 8 19 16 11  7]\n",
      "Group 4\n",
      "[13 10 12  4]\n"
     ]
    }
   ],
   "source": [
    "generate_group(19,4)"
   ]
  },
  {
   "cell_type": "code",
   "execution_count": null,
   "metadata": {},
   "outputs": [],
   "source": []
  }
 ],
 "metadata": {
  "kernelspec": {
   "display_name": "Python 3",
   "language": "python",
   "name": "python3"
  },
  "language_info": {
   "codemirror_mode": {
    "name": "ipython",
    "version": 3
   },
   "file_extension": ".py",
   "mimetype": "text/x-python",
   "name": "python",
   "nbconvert_exporter": "python",
   "pygments_lexer": "ipython3",
   "version": "3.6.8"
  }
 },
 "nbformat": 4,
 "nbformat_minor": 2
}
