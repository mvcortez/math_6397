{
 "cells": [
  {
   "cell_type": "code",
   "execution_count": 1,
   "metadata": {},
   "outputs": [],
   "source": [
    "import numpy as np"
   ]
  },
  {
   "cell_type": "code",
   "execution_count": 2,
   "metadata": {},
   "outputs": [],
   "source": [
    "def generate_group(N,m):\n",
    "    '''parameters:\n",
    "    N - number of individuals to be distributed\n",
    "    m - number of groups to be formed\n",
    "    '''\n",
    "    x=np.random.permutation(N)+1\n",
    "    num_member=int(np.ceil(N/m))\n",
    "    residue = N-num_member\n",
    "    for i in range(m):\n",
    "        print('Group %d' %(i+1))\n",
    "        if i<=i*m:\n",
    "            print(x[i*num_member:(i+1)*num_member])   \n",
    "        else:\n",
    "            print(x[i*num_member:i*num_member+residue])      "
   ]
  },
  {
   "cell_type": "code",
   "execution_count": 3,
   "metadata": {},
   "outputs": [
    {
     "name": "stdout",
     "output_type": "stream",
     "text": [
      "Group 1\n",
      "[ 5 13 12 11  4]\n",
      "Group 2\n",
      "[19 14 17 10  9]\n",
      "Group 3\n",
      "[ 2  3 18 16  7]\n",
      "Group 4\n",
      "[15  1  6  8]\n"
     ]
    }
   ],
   "source": [
    "generate_group(19,4)"
   ]
  },
  {
   "cell_type": "code",
   "execution_count": null,
   "metadata": {},
   "outputs": [],
   "source": []
  }
 ],
 "metadata": {
  "kernelspec": {
   "display_name": "Python 3",
   "language": "python",
   "name": "python3"
  },
  "language_info": {
   "codemirror_mode": {
    "name": "ipython",
    "version": 3
   },
   "file_extension": ".py",
   "mimetype": "text/x-python",
   "name": "python",
   "nbconvert_exporter": "python",
   "pygments_lexer": "ipython3",
   "version": "3.6.8"
  }
 },
 "nbformat": 4,
 "nbformat_minor": 2
}
